{
 "cells": [
  {
   "cell_type": "markdown",
   "metadata": {},
   "source": [
    "全市场主动卖出成交额占比 均值"
   ]
  },
  {
   "cell_type": "code",
   "execution_count": 1,
   "metadata": {},
   "outputs": [
    {
     "data": {
      "text/html": [
       "<div><style>\n",
       ".dataframe > thead > tr,\n",
       ".dataframe > tbody > tr {\n",
       "  text-align: right;\n",
       "  white-space: pre-wrap;\n",
       "}\n",
       "</style>\n",
       "<small>shape: (2_483_434, 16)</small><table border=\"1\" class=\"dataframe\"><thead><tr><th>open_time</th><th>open</th><th>high</th><th>low</th><th>close</th><th>volume</th><th>close_time</th><th>quote_volume</th><th>count</th><th>taker_buy_volume</th><th>taker_buy_quote_volume</th><th>symbol</th><th>diff</th><th>return</th><th>total_diff_volume</th><th>diff_ratio_perday</th></tr><tr><td>datetime[μs]</td><td>f64</td><td>f64</td><td>f64</td><td>f64</td><td>f64</td><td>datetime[μs]</td><td>f64</td><td>i64</td><td>f64</td><td>f64</td><td>str</td><td>f64</td><td>f64</td><td>f64</td><td>f64</td></tr></thead><tbody><tr><td>2022-09-09 13:00:00</td><td>0.4728</td><td>0.4874</td><td>0.3663</td><td>0.451</td><td>6.5705837e7</td><td>2022-09-09 13:59:59.999</td><td>2.8487e7</td><td>124200</td><td>3.3701922e7</td><td>1.4632e7</td><td>&quot;1000LUNCUSDT&quot;</td><td>1.3855e7</td><td>null</td><td>1.3956e9</td><td>0.009928</td></tr><tr><td>2022-09-09 14:00:00</td><td>0.451</td><td>0.4609</td><td>0.4277</td><td>0.4592</td><td>4.1316126e7</td><td>2022-09-09 14:59:59.999</td><td>1.8355e7</td><td>94104</td><td>2.0298138e7</td><td>9.0220e6</td><td>&quot;1000LUNCUSDT&quot;</td><td>9.3333e6</td><td>0.018182</td><td>9.4518e8</td><td>0.009875</td></tr><tr><td>2022-09-09 15:00:00</td><td>0.4594</td><td>0.4734</td><td>0.4416</td><td>0.4555</td><td>4.4134479e7</td><td>2022-09-09 15:59:59.999</td><td>2.0198e7</td><td>103417</td><td>2.2353913e7</td><td>1.0239e7</td><td>&quot;1000LUNCUSDT&quot;</td><td>9.9586e6</td><td>-0.008057</td><td>1.1622e9</td><td>0.008569</td></tr><tr><td>2022-09-09 16:00:00</td><td>0.4554</td><td>0.458</td><td>0.4175</td><td>0.4297</td><td>4.6242265e7</td><td>2022-09-09 16:59:59.999</td><td>2.0187e7</td><td>84951</td><td>2.1467246e7</td><td>9.3760e6</td><td>&quot;1000LUNCUSDT&quot;</td><td>1.0811e7</td><td>-0.056641</td><td>1.3236e9</td><td>0.008168</td></tr><tr><td>2022-09-09 17:00:00</td><td>0.4297</td><td>0.4418</td><td>0.4071</td><td>0.4156</td><td>2.661109e7</td><td>2022-09-09 17:59:59.999</td><td>1.1376e7</td><td>50896</td><td>1.2655405e7</td><td>5.4132e6</td><td>&quot;1000LUNCUSDT&quot;</td><td>5.9630e6</td><td>-0.032814</td><td>1.0146e9</td><td>0.005877</td></tr><tr><td>&hellip;</td><td>&hellip;</td><td>&hellip;</td><td>&hellip;</td><td>&hellip;</td><td>&hellip;</td><td>&hellip;</td><td>&hellip;</td><td>&hellip;</td><td>&hellip;</td><td>&hellip;</td><td>&hellip;</td><td>&hellip;</td><td>&hellip;</td><td>&hellip;</td><td>&hellip;</td></tr><tr><td>2022-12-31 19:00:00</td><td>0.1494</td><td>0.1498</td><td>0.1494</td><td>0.1496</td><td>748908.5</td><td>2022-12-31 19:59:59.999</td><td>112011.25443</td><td>882</td><td>481198.1</td><td>71987.20389</td><td>&quot;ZRXUSDT&quot;</td><td>40024.05054</td><td>0.001339</td><td>1.4458e8</td><td>0.000277</td></tr><tr><td>2022-12-31 20:00:00</td><td>0.1496</td><td>0.1497</td><td>0.1494</td><td>0.1496</td><td>501195.0</td><td>2022-12-31 20:59:59.999</td><td>74979.34106</td><td>751</td><td>282290.8</td><td>42242.69096</td><td>&quot;ZRXUSDT&quot;</td><td>32736.6501</td><td>0.0</td><td>1.0070e8</td><td>0.000325</td></tr><tr><td>2022-12-31 21:00:00</td><td>0.1496</td><td>0.1497</td><td>0.149</td><td>0.149</td><td>413737.4</td><td>2022-12-31 21:59:59.999</td><td>61817.02306</td><td>583</td><td>132775.7</td><td>19839.82814</td><td>&quot;ZRXUSDT&quot;</td><td>41977.19492</td><td>-0.004011</td><td>1.3657e8</td><td>0.000307</td></tr><tr><td>2022-12-31 22:00:00</td><td>0.149</td><td>0.1491</td><td>0.1478</td><td>0.1483</td><td>1401982.5</td><td>2022-12-31 22:59:59.999</td><td>208181.11145</td><td>1120</td><td>902267.6</td><td>133972.0495</td><td>&quot;ZRXUSDT&quot;</td><td>74209.06195</td><td>-0.004698</td><td>3.5887e8</td><td>0.000207</td></tr><tr><td>2022-12-31 23:00:00</td><td>0.1483</td><td>0.1484</td><td>0.1476</td><td>0.1476</td><td>2528421.9</td><td>2022-12-31 23:59:59.999</td><td>374294.62806</td><td>1803</td><td>1073164.9</td><td>158876.07643</td><td>&quot;ZRXUSDT&quot;</td><td>215418.55163</td><td>-0.00472</td><td>2.1765e8</td><td>0.00099</td></tr></tbody></table></div>"
      ],
      "text/plain": [
       "shape: (2_483_434, 16)\n",
       "┌─────────────┬────────┬────────┬────────┬───┬─────────────┬───────────┬─────────────┬─────────────┐\n",
       "│ open_time   ┆ open   ┆ high   ┆ low    ┆ … ┆ diff        ┆ return    ┆ total_diff_ ┆ diff_ratio_ │\n",
       "│ ---         ┆ ---    ┆ ---    ┆ ---    ┆   ┆ ---         ┆ ---       ┆ volume      ┆ perday      │\n",
       "│ datetime[μs ┆ f64    ┆ f64    ┆ f64    ┆   ┆ f64         ┆ f64       ┆ ---         ┆ ---         │\n",
       "│ ]           ┆        ┆        ┆        ┆   ┆             ┆           ┆ f64         ┆ f64         │\n",
       "╞═════════════╪════════╪════════╪════════╪═══╪═════════════╪═══════════╪═════════════╪═════════════╡\n",
       "│ 2022-09-09  ┆ 0.4728 ┆ 0.4874 ┆ 0.3663 ┆ … ┆ 1.3855e7    ┆ null      ┆ 1.3956e9    ┆ 0.009928    │\n",
       "│ 13:00:00    ┆        ┆        ┆        ┆   ┆             ┆           ┆             ┆             │\n",
       "│ 2022-09-09  ┆ 0.451  ┆ 0.4609 ┆ 0.4277 ┆ … ┆ 9.3333e6    ┆ 0.018182  ┆ 9.4518e8    ┆ 0.009875    │\n",
       "│ 14:00:00    ┆        ┆        ┆        ┆   ┆             ┆           ┆             ┆             │\n",
       "│ 2022-09-09  ┆ 0.4594 ┆ 0.4734 ┆ 0.4416 ┆ … ┆ 9.9586e6    ┆ -0.008057 ┆ 1.1622e9    ┆ 0.008569    │\n",
       "│ 15:00:00    ┆        ┆        ┆        ┆   ┆             ┆           ┆             ┆             │\n",
       "│ 2022-09-09  ┆ 0.4554 ┆ 0.458  ┆ 0.4175 ┆ … ┆ 1.0811e7    ┆ -0.056641 ┆ 1.3236e9    ┆ 0.008168    │\n",
       "│ 16:00:00    ┆        ┆        ┆        ┆   ┆             ┆           ┆             ┆             │\n",
       "│ 2022-09-09  ┆ 0.4297 ┆ 0.4418 ┆ 0.4071 ┆ … ┆ 5.9630e6    ┆ -0.032814 ┆ 1.0146e9    ┆ 0.005877    │\n",
       "│ 17:00:00    ┆        ┆        ┆        ┆   ┆             ┆           ┆             ┆             │\n",
       "│ …           ┆ …      ┆ …      ┆ …      ┆ … ┆ …           ┆ …         ┆ …           ┆ …           │\n",
       "│ 2022-12-31  ┆ 0.1494 ┆ 0.1498 ┆ 0.1494 ┆ … ┆ 40024.05054 ┆ 0.001339  ┆ 1.4458e8    ┆ 0.000277    │\n",
       "│ 19:00:00    ┆        ┆        ┆        ┆   ┆             ┆           ┆             ┆             │\n",
       "│ 2022-12-31  ┆ 0.1496 ┆ 0.1497 ┆ 0.1494 ┆ … ┆ 32736.6501  ┆ 0.0       ┆ 1.0070e8    ┆ 0.000325    │\n",
       "│ 20:00:00    ┆        ┆        ┆        ┆   ┆             ┆           ┆             ┆             │\n",
       "│ 2022-12-31  ┆ 0.1496 ┆ 0.1497 ┆ 0.149  ┆ … ┆ 41977.19492 ┆ -0.004011 ┆ 1.3657e8    ┆ 0.000307    │\n",
       "│ 21:00:00    ┆        ┆        ┆        ┆   ┆             ┆           ┆             ┆             │\n",
       "│ 2022-12-31  ┆ 0.149  ┆ 0.1491 ┆ 0.1478 ┆ … ┆ 74209.06195 ┆ -0.004698 ┆ 3.5887e8    ┆ 0.000207    │\n",
       "│ 22:00:00    ┆        ┆        ┆        ┆   ┆             ┆           ┆             ┆             │\n",
       "│ 2022-12-31  ┆ 0.1483 ┆ 0.1484 ┆ 0.1476 ┆ … ┆ 215418.5516 ┆ -0.00472  ┆ 2.1765e8    ┆ 0.00099     │\n",
       "│ 23:00:00    ┆        ┆        ┆        ┆   ┆ 3           ┆           ┆             ┆             │\n",
       "└─────────────┴────────┴────────┴────────┴───┴─────────────┴───────────┴─────────────┴─────────────┘"
      ]
     },
     "execution_count": 1,
     "metadata": {},
     "output_type": "execute_result"
    }
   ],
   "source": [
    "import polars as pl\n",
    "import numpy as np\n",
    "\n",
    "# 读取数据\n",
    "data = pl.read_parquet(\"hourly_data.pa\")\n",
    "\n",
    "df = data.sort('open_time').sort('symbol')\n",
    "\n",
    "df = df.with_columns([\n",
    "    (pl.col('quote_volume') - pl.col('taker_buy_quote_volume')).alias('diff'),\n",
    "    (pl.col('close') / (pl.col('close').shift(1).over('symbol')) - 1).alias('return')\n",
    "])\n",
    "\n",
    "# 计算每个时刻所有 symbol 的 taker_buy_quote_volume 的总和\n",
    "df = df.with_columns([\n",
    "    pl.col(\"diff\").sum().over(\"open_time\").alias(\"total_diff_volume\")\n",
    "])\n",
    "\n",
    "# 计算每个 symbol 在每个时刻的 taker_buy_quote_volume 与总和的比例\n",
    "df = df.with_columns([\n",
    "    (pl.col(\"diff\") / pl.col(\"total_diff_volume\")).alias(\"diff_ratio_perday\")\n",
    "])\n",
    "\n",
    "df"
   ]
  },
  {
   "cell_type": "code",
   "execution_count": 2,
   "metadata": {},
   "outputs": [],
   "source": [
    "# 取均值\n",
    "df = df.with_columns([\n",
    "    pl.col(\"diff_ratio_perday\").rolling_mean(28).over(\"symbol\").alias(\"mean_diff_ratio_perday\")\n",
    "])\n",
    "\n",
    "factors = df.select(['open_time', 'symbol', 'diff_ratio_perday'])"
   ]
  }
 ],
 "metadata": {
  "kernelspec": {
   "display_name": "Python 3",
   "language": "python",
   "name": "python3"
  },
  "language_info": {
   "codemirror_mode": {
    "name": "ipython",
    "version": 3
   },
   "file_extension": ".py",
   "mimetype": "text/x-python",
   "name": "python",
   "nbconvert_exporter": "python",
   "pygments_lexer": "ipython3",
   "version": "3.10.7"
  }
 },
 "nbformat": 4,
 "nbformat_minor": 2
}
